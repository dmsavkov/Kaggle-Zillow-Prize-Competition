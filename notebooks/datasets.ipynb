{
 "cells": [
  {
   "cell_type": "markdown",
   "id": "2f32f5a2",
   "metadata": {},
   "source": [
    "##"
   ]
  },
  {
   "cell_type": "markdown",
   "id": "65bd5fc3",
   "metadata": {},
   "source": [
    "### Info\n",
    "\n",
    "-  Notebook is about comparative analysis specifically about whole datasets and their possible alterings. \n",
    "\n",
    "Table of content:\n",
    "- Similarity tests (adversarial cv).\n",
    "\n"
   ]
  },
  {
   "cell_type": "markdown",
   "id": "f402634b",
   "metadata": {},
   "source": [
    "### Setup"
   ]
  },
  {
   "cell_type": "code",
   "execution_count": null,
   "id": "0ab5a6f9",
   "metadata": {},
   "outputs": [],
   "source": [
    "import os\n",
    "import gc\n",
    "from tqdm.auto import tqdm\n",
    "import warnings\n",
    "\n",
    "import pandas as pd\n",
    "import numpy as np\n",
    "import matplotlib.pyplot as plt\n",
    "import seaborn as sns\n",
    "\n",
    "import scipy.stats as stats\n",
    "\n",
    "from zillow.dataclasses.data_wrangling import WranglingColumnsConfig\n",
    "from zillow.config.feature_engineering import FeaturesDtypeConversionConfig_v1\n",
    "from zillow.utils.common import read_data, find_shared_cols, get_obj_features, find_all_cols\n",
    "from zillow.config.config import load_config_no_wrap, create_config_from_dict, merge_configs\n",
    "from zillow.config.paths import PROCESSED_DATA_DIR, RAW_DATA_DIR, INTERIM_DATA_DIR, REPORTS_DIR, ANALYSIS_RESULTS_DIR, DRIFTS_DIR\n",
    "from zillow.analysis.statistics import (\n",
    "    DriftDetectionTests, TwoSampHypothesisTests, \n",
    "    GroupBasedEffectSizes, TwoSampNonParamEffectSizes, TwoSampRelationshipEffectSizes, \n",
    "    TtestBasedEffectSizes, CategoricalEffectSizes\n",
    ")\n",
    "\n",
    "cfg = load_config_no_wrap('default')\n",
    "cur_cfg = create_config_from_dict({\n",
    "    'load_all_data': False,\n",
    "    'main_train_path': INTERIM_DATA_DIR / 'cleaned_train_2016_v1.0.parquet',\n",
    "    'main_test_path': INTERIM_DATA_DIR / 'cleaned_properties_2016_v1.0.parquet',\n",
    "})\n",
    "cfg = merge_configs(cfg, cur_cfg)\n",
    "\n",
    "np.random.seed(cfg.RSEED)\n",
    "plt.style.use('seaborn-v0_8-whitegrid')\n",
    "sns.set_palette(\"deep\")\n",
    "\n",
    "sample_submission = pd.read_csv(RAW_DATA_DIR / \"sample_submission.csv\")\n",
    "zillow_dictionary = pd.read_csv(RAW_DATA_DIR / \"zillow_data_dictionary.csv\")\n",
    "\n",
    "if cfg.to_load_all_data:\n",
    "    properties_2016 = read_data(path=INTERIM_DATA_DIR / \"cleaned_properties_2016_v1.0.parquet\", dtype='default')\n",
    "    properties_2017 = read_data(path=INTERIM_DATA_DIR / \"cleaned_properties_2017_v1.0.parquet\", dtype='default')\n",
    "    train_2016 = read_data(path=INTERIM_DATA_DIR / \"cleaned_train_2016_v1.0.parquet\", dtype='default')\n",
    "    train_2017 = read_data(path=INTERIM_DATA_DIR / \"cleaned_train_2017_v1.0.parquet\", dtype='default')\n",
    "\n",
    "train = read_data(cfg.main_train_path, dtype='default')\n",
    "test = read_data(cfg.main_test_path, dtype='default')\n",
    "\n",
    "wrangling_cols = WranglingColumnsConfig()\n",
    "features_dtype_cfg = FeaturesDtypeConversionConfig_v1()\n"
   ]
  },
  {
   "cell_type": "markdown",
   "id": "f16aac34",
   "metadata": {},
   "source": [
    "### Helpers"
   ]
  },
  {
   "cell_type": "code",
   "execution_count": 3,
   "id": "fd4a2910",
   "metadata": {},
   "outputs": [],
   "source": [
    "def plot_hist_dfs_comparison(dfs, features):\n",
    "    ncols = 1\n",
    "    nrows = sum(divmod(len(features), ncols))\n",
    "    fig, axes = plt.subplots(nrows, ncols, figsize=(20, nrows * 6))\n",
    "    axes = np.atleast_2d(np.array(axes)).T\n",
    "    colors = sns.color_palette(\"deep\")\n",
    "\n",
    "    for i, col in enumerate(features):\n",
    "        r, c = divmod(i, ncols)\n",
    "        ax = axes[r, c]\n",
    "\n",
    "        # qq How to count non null values? How to choose only non null values without ~?\n",
    "        lowest_samples = min(df[col].count() for df in dfs)\n",
    "\n",
    "        for j, df in enumerate(dfs):\n",
    "            # NOTE: uses sampling for equal comparison.\n",
    "            x = df[df[col].notna()][col].sample(lowest_samples, random_state=cfg.RSEED)\n",
    "            plot_histplot(column=col, x=x, bins=50, title=f'Comparison by {col}', label=f'Dataset {j+1}',\n",
    "                          kde=True, color=colors[j], ylabel='Count', ax=ax)\n",
    "\n",
    "    plt.tight_layout()\n",
    "    plt.show()\n",
    "\n",
    "# TODO can be improved.\n",
    "def plot_histplot(column, x=None, data=None, bins=\"auto\", title=None, figsize=(10, 6), kde=True, hist=True,\n",
    "                 color='steelblue', stat='count', log_scale=False, ax=None, ylabel=\"\", label=None):\n",
    "    \"\"\"\n",
    "    Creates a histogram plot for numerical data.\n",
    "    \"\"\"\n",
    "    if data is None and x is None:\n",
    "        raise ValueError('Must specify data with column or series x. ')\n",
    "    \n",
    "    if ax is None:\n",
    "        fig, ax = plt.subplots(figsize=figsize)\n",
    "    \n",
    "    # Data has to be used with a column. Else - using x as a series. \n",
    "    if data is not None:\n",
    "        x = column\n",
    "\n",
    "    if kde and not hist:\n",
    "        sns.kdeplot(data=data, x=x, ax=ax, color=color, label=label)\n",
    "    else:\n",
    "        sns.histplot(data=data, x=x, bins=bins, kde=kde, \n",
    "                    element=\"step\" if not hist else \"bars\",\n",
    "                    color=color, stat=stat, ax=ax, label=label)\n",
    "\n",
    "    if log_scale:\n",
    "        ax.set_yscale('log')\n",
    "\n",
    "    ax.grid(axis='y', alpha=0.3)\n",
    "\n",
    "    if title: ax.set_title(title, fontsize=14)\n",
    "    if ylabel: ax.set_ylabel(ylabel, fontsize=12)\n",
    "    ax.set_xlabel(column, fontsize=12)\n",
    "\n",
    "    if label:  # Only add legend if label is provided\n",
    "        ax.legend()\n",
    "\n",
    "    return ax"
   ]
  },
  {
   "cell_type": "code",
   "execution_count": 4,
   "id": "510664fb",
   "metadata": {},
   "outputs": [],
   "source": [
    "# Tests\n",
    "\n",
    "def compute_dfs_ind_stats(df1, df2, features=None):\n",
    "    if features is None:\n",
    "        features = find_shared_dfs_cols(df1, df2)\n",
    "\n",
    "    res = np.zeros(shape=(len(features), 4))\n",
    "    fields = ['tt_stat', 'tt_pvalue', 'wh_stat', 'wh_pvalue']\n",
    "\n",
    "    for i, feat in enumerate(features):\n",
    "        tt, wh = compute_tt_wh_ind_stats(df1[feat], df2[feat])\n",
    "        res[i, :] = [np.round(x, decimals=5) for x in [tt.statistic, tt.pvalue, wh.statistic, wh.pvalue]]\n",
    "\n",
    "    res_df = pd.DataFrame(data=res.T, columns=features, index=fields)\n",
    "    return res_df\n",
    "\n",
    "def compute_tt_wh_ind_stats(x1, x2):\n",
    "    x1_clean = x1.dropna()\n",
    "    x2_clean = x2.dropna()\n",
    "    \n",
    "    if len(x1_clean) > 0 and len(x2_clean) > 0:\n",
    "        tt = stats.ttest_ind(x1_clean, x2_clean)\n",
    "        wh = stats.mannwhitneyu(x1_clean, x2_clean)\n",
    "\n",
    "    else:\n",
    "        raise ValueError(\"Insufficient data after removing NaN values\")\n",
    "\n",
    "    return [tt, wh]\n",
    "    "
   ]
  },
  {
   "cell_type": "markdown",
   "id": "e418972c",
   "metadata": {},
   "source": [
    "### Statistical tests and Plotting"
   ]
  },
  {
   "cell_type": "code",
   "execution_count": 5,
   "id": "c96b7a13",
   "metadata": {},
   "outputs": [
    {
     "ename": "NameError",
     "evalue": "name 'train_months_q4_sets' is not defined",
     "output_type": "error",
     "traceback": [
      "\u001b[1;31m---------------------------------------------------------------------------\u001b[0m",
      "\u001b[1;31mNameError\u001b[0m                                 Traceback (most recent call last)",
      "Cell \u001b[1;32mIn[5], line 1\u001b[0m\n\u001b[1;32m----> 1\u001b[0m most_distinguishable_features \u001b[38;5;241m=\u001b[39m find_shared_cols(\u001b[38;5;241m*\u001b[39m[df\u001b[38;5;241m.\u001b[39mcolumns\u001b[38;5;241m.\u001b[39mto_list() \u001b[38;5;28;01mfor\u001b[39;00m df \u001b[38;5;129;01min\u001b[39;00m \u001b[43mtrain_months_q4_sets\u001b[49m])\n\u001b[0;32m      3\u001b[0m num_dist_features \u001b[38;5;241m=\u001b[39m train[most_distinguishable_features]\u001b[38;5;241m.\u001b[39mselect_dtypes([np\u001b[38;5;241m.\u001b[39mnumber])\u001b[38;5;241m.\u001b[39mcolumns\n\u001b[0;32m      4\u001b[0m cat_dist_features \u001b[38;5;241m=\u001b[39m train[most_distinguishable_features]\u001b[38;5;241m.\u001b[39mselect_dtypes([np\u001b[38;5;241m.\u001b[39mobject_, \u001b[38;5;124m'\u001b[39m\u001b[38;5;124mcategory\u001b[39m\u001b[38;5;124m'\u001b[39m])\u001b[38;5;241m.\u001b[39mcolumns\n",
      "\u001b[1;31mNameError\u001b[0m: name 'train_months_q4_sets' is not defined"
     ]
    }
   ],
   "source": [
    "most_distinguishable_features = find_shared_cols(*[df.columns.to_list() for df in train_months_q4_sets])\n",
    "\n",
    "num_dist_features = train[most_distinguishable_features].select_dtypes([np.number]).columns\n",
    "cat_dist_features = train[most_distinguishable_features].select_dtypes([np.object_, 'category']).columns\n",
    "bool_dist_features = train[most_distinguishable_features].select_dtypes([np.bool_]).columns\n",
    "\n",
    "df1 = train_months_q4_sets[0].copy()\n",
    "df2 = train_months_q4_sets[1].copy()\n",
    "dfs = [df1, df2]"
   ]
  },
  {
   "cell_type": "code",
   "execution_count": null,
   "id": "01bf5cd6",
   "metadata": {},
   "outputs": [
    {
     "data": {
      "application/vnd.microsoft.datawrangler.viewer.v0+json": {
       "columns": [
        {
         "name": "index",
         "rawType": "object",
         "type": "string"
        },
        {
         "name": "yardbuildingsqft17",
         "rawType": "float64",
         "type": "float"
        },
        {
         "name": "finishedsquarefeet6",
         "rawType": "float64",
         "type": "float"
        },
        {
         "name": "architecturalstyletypeid",
         "rawType": "float64",
         "type": "float"
        },
        {
         "name": "garagetotalsqft",
         "rawType": "float64",
         "type": "float"
        },
        {
         "name": "basementsqft",
         "rawType": "float64",
         "type": "float"
        },
        {
         "name": "threequarterbathnbr",
         "rawType": "float64",
         "type": "float"
        },
        {
         "name": "taxdelinquencyyear",
         "rawType": "float64",
         "type": "float"
        },
        {
         "name": "heatingorsystemtypeid",
         "rawType": "float64",
         "type": "float"
        },
        {
         "name": "yearbuilt",
         "rawType": "float64",
         "type": "float"
        },
        {
         "name": "fireplacecnt",
         "rawType": "float64",
         "type": "float"
        },
        {
         "name": "unitcnt",
         "rawType": "float64",
         "type": "float"
        },
        {
         "name": "calculatedbathnbr",
         "rawType": "float64",
         "type": "float"
        },
        {
         "name": "buildingqualitytypeid",
         "rawType": "float64",
         "type": "float"
        },
        {
         "name": "lotsizesquarefeet",
         "rawType": "float64",
         "type": "float"
        },
        {
         "name": "finishedfloor1squarefeet",
         "rawType": "float64",
         "type": "float"
        },
        {
         "name": "longitude",
         "rawType": "float64",
         "type": "float"
        },
        {
         "name": "fullbathcnt",
         "rawType": "float64",
         "type": "float"
        },
        {
         "name": "landtaxvaluedollarcnt",
         "rawType": "float64",
         "type": "float"
        },
        {
         "name": "poolsizesum",
         "rawType": "float64",
         "type": "float"
        },
        {
         "name": "garagecarcnt",
         "rawType": "float64",
         "type": "float"
        },
        {
         "name": "latitude",
         "rawType": "float64",
         "type": "float"
        },
        {
         "name": "propertylandusetypeid",
         "rawType": "float64",
         "type": "float"
        },
        {
         "name": "taxvaluedollarcnt",
         "rawType": "float64",
         "type": "float"
        },
        {
         "name": "calculatedfinishedsquarefeet",
         "rawType": "float64",
         "type": "float"
        },
        {
         "name": "bedroomcnt",
         "rawType": "float64",
         "type": "float"
        },
        {
         "name": "parcelid",
         "rawType": "float64",
         "type": "float"
        },
        {
         "name": "finishedsquarefeet15",
         "rawType": "float64",
         "type": "float"
        },
        {
         "name": "numberofstories",
         "rawType": "float64",
         "type": "float"
        },
        {
         "name": "yardbuildingsqft26",
         "rawType": "float64",
         "type": "float"
        },
        {
         "name": "roomcnt",
         "rawType": "float64",
         "type": "float"
        },
        {
         "name": "bathroomcnt",
         "rawType": "float64",
         "type": "float"
        },
        {
         "name": "logerror",
         "rawType": "float64",
         "type": "float"
        },
        {
         "name": "taxamount",
         "rawType": "float64",
         "type": "float"
        },
        {
         "name": "finishedsquarefeet13",
         "rawType": "float64",
         "type": "float"
        },
        {
         "name": "airconditioningtypeid",
         "rawType": "float64",
         "type": "float"
        },
        {
         "name": "structuretaxvaluedollarcnt",
         "rawType": "float64",
         "type": "float"
        }
       ],
       "ref": "abe8c1ea-5af2-4bf8-aaa9-d78b10610a68",
       "rows": [
        [
         "tt_stat",
         "0.55577",
         "-1.37641",
         "-0.98876",
         "-1.37725",
         "-0.46646",
         "0.73412",
         "-0.11526",
         "-0.52146",
         "1.11182",
         "0.10065",
         "0.47491",
         "0.57271",
         "1.39447",
         "-0.74418",
         "1.139",
         "-0.86266",
         "0.53001",
         "0.94528",
         "0.27773",
         "0.39355",
         "-0.21027",
         "-0.69672",
         "0.86945",
         "0.09958",
         "-1.10675",
         "1.36134",
         "-0.90227",
         "-1.67213",
         "-0.24048",
         "0.22876",
         "0.78132",
         "0.44745",
         "0.70742",
         "-5.5",
         "-1.56428",
         "0.55273"
        ],
        [
         "tt_pvalue",
         "0.57906",
         "0.17796",
         "0.3352",
         "0.16858",
         "0.67267",
         "0.46308",
         "0.90831",
         "0.60207",
         "0.26625",
         "0.91986",
         "0.63488",
         "0.56686",
         "0.16325",
         "0.45679",
         "0.25523",
         "0.38836",
         "0.59612",
         "0.34455",
         "0.78198",
         "0.69395",
         "0.83346",
         "0.486",
         "0.38463",
         "0.92068",
         "0.26844",
         "0.17345",
         "0.36768",
         "0.0947",
         "0.81685",
         "0.81906",
         "0.43464",
         "0.65456",
         "0.47933",
         "0.0315",
         "0.1179",
         "0.58047"
        ],
        [
         "wh_stat",
         "2621.5",
         "101.0",
         "46.5",
         "415460.0",
         "1.0",
         "66296.5",
         "8096.5",
         "1851631.0",
         "4561326.5",
         "46910.0",
         "2038260.0",
         "4472105.5",
         "2006993.0",
         "3700172.5",
         "26188.0",
         "4476846.0",
         "4477177.5",
         "4609239.0",
         "449.5",
         "436272.5",
         "4499996.0",
         "4532584.5",
         "4619024.5",
         "4460740.5",
         "4424941.0",
         "4595395.0",
         "6726.5",
         "213238.5",
         "3.0",
         "4540015.0",
         "4586086.0",
         "4461759.0",
         "4634561.5",
         "0.0",
         "440491.0",
         "4580700.0"
        ],
        [
         "wh_pvalue",
         "0.56799",
         "0.15652",
         "0.50461",
         "0.08186",
         "0.8",
         "0.46338",
         "0.24394",
         "0.74214",
         "0.31193",
         "0.99752",
         "0.82346",
         "0.46896",
         "0.20129",
         "0.58748",
         "0.37776",
         "0.4957",
         "0.40927",
         "0.24247",
         "0.91578",
         "0.95072",
         "0.72052",
         "0.90591",
         "0.19169",
         "0.65256",
         "0.14047",
         "0.32937",
         "0.07666",
         "0.06014",
         "0.88889",
         "0.78172",
         "0.37627",
         "0.37233",
         "0.12783",
         "0.34578",
         "0.14145",
         "0.38461"
        ]
       ],
       "shape": {
        "columns": 36,
        "rows": 4
       }
      },
      "text/html": [
       "<div>\n",
       "<style scoped>\n",
       "    .dataframe tbody tr th:only-of-type {\n",
       "        vertical-align: middle;\n",
       "    }\n",
       "\n",
       "    .dataframe tbody tr th {\n",
       "        vertical-align: top;\n",
       "    }\n",
       "\n",
       "    .dataframe thead th {\n",
       "        text-align: right;\n",
       "    }\n",
       "</style>\n",
       "<table border=\"1\" class=\"dataframe\">\n",
       "  <thead>\n",
       "    <tr style=\"text-align: right;\">\n",
       "      <th></th>\n",
       "      <th>yardbuildingsqft17</th>\n",
       "      <th>finishedsquarefeet6</th>\n",
       "      <th>architecturalstyletypeid</th>\n",
       "      <th>garagetotalsqft</th>\n",
       "      <th>basementsqft</th>\n",
       "      <th>threequarterbathnbr</th>\n",
       "      <th>taxdelinquencyyear</th>\n",
       "      <th>heatingorsystemtypeid</th>\n",
       "      <th>yearbuilt</th>\n",
       "      <th>fireplacecnt</th>\n",
       "      <th>unitcnt</th>\n",
       "      <th>calculatedbathnbr</th>\n",
       "      <th>buildingqualitytypeid</th>\n",
       "      <th>lotsizesquarefeet</th>\n",
       "      <th>finishedfloor1squarefeet</th>\n",
       "      <th>longitude</th>\n",
       "      <th>fullbathcnt</th>\n",
       "      <th>landtaxvaluedollarcnt</th>\n",
       "      <th>poolsizesum</th>\n",
       "      <th>garagecarcnt</th>\n",
       "      <th>latitude</th>\n",
       "      <th>propertylandusetypeid</th>\n",
       "      <th>taxvaluedollarcnt</th>\n",
       "      <th>calculatedfinishedsquarefeet</th>\n",
       "      <th>bedroomcnt</th>\n",
       "      <th>parcelid</th>\n",
       "      <th>finishedsquarefeet15</th>\n",
       "      <th>numberofstories</th>\n",
       "      <th>yardbuildingsqft26</th>\n",
       "      <th>roomcnt</th>\n",
       "      <th>bathroomcnt</th>\n",
       "      <th>logerror</th>\n",
       "      <th>taxamount</th>\n",
       "      <th>finishedsquarefeet13</th>\n",
       "      <th>airconditioningtypeid</th>\n",
       "      <th>structuretaxvaluedollarcnt</th>\n",
       "    </tr>\n",
       "  </thead>\n",
       "  <tbody>\n",
       "    <tr>\n",
       "      <th>tt_stat</th>\n",
       "      <td>0.55577</td>\n",
       "      <td>-1.37641</td>\n",
       "      <td>-0.98876</td>\n",
       "      <td>-1.37725</td>\n",
       "      <td>-0.46646</td>\n",
       "      <td>0.73412</td>\n",
       "      <td>-0.11526</td>\n",
       "      <td>-5.214600e-01</td>\n",
       "      <td>1.111820e+00</td>\n",
       "      <td>0.10065</td>\n",
       "      <td>4.749100e-01</td>\n",
       "      <td>5.727100e-01</td>\n",
       "      <td>1.394470e+00</td>\n",
       "      <td>-7.441800e-01</td>\n",
       "      <td>1.13900</td>\n",
       "      <td>-8.626600e-01</td>\n",
       "      <td>5.300100e-01</td>\n",
       "      <td>9.452800e-01</td>\n",
       "      <td>0.27773</td>\n",
       "      <td>0.39355</td>\n",
       "      <td>-2.102700e-01</td>\n",
       "      <td>-6.967200e-01</td>\n",
       "      <td>8.694500e-01</td>\n",
       "      <td>9.958000e-02</td>\n",
       "      <td>-1.106750e+00</td>\n",
       "      <td>1.361340e+00</td>\n",
       "      <td>-0.90227</td>\n",
       "      <td>-1.67213</td>\n",
       "      <td>-0.24048</td>\n",
       "      <td>2.287600e-01</td>\n",
       "      <td>7.813200e-01</td>\n",
       "      <td>4.474500e-01</td>\n",
       "      <td>7.074200e-01</td>\n",
       "      <td>-5.50000</td>\n",
       "      <td>-1.56428</td>\n",
       "      <td>5.527300e-01</td>\n",
       "    </tr>\n",
       "    <tr>\n",
       "      <th>tt_pvalue</th>\n",
       "      <td>0.57906</td>\n",
       "      <td>0.17796</td>\n",
       "      <td>0.33520</td>\n",
       "      <td>0.16858</td>\n",
       "      <td>0.67267</td>\n",
       "      <td>0.46308</td>\n",
       "      <td>0.90831</td>\n",
       "      <td>6.020700e-01</td>\n",
       "      <td>2.662500e-01</td>\n",
       "      <td>0.91986</td>\n",
       "      <td>6.348800e-01</td>\n",
       "      <td>5.668600e-01</td>\n",
       "      <td>1.632500e-01</td>\n",
       "      <td>4.567900e-01</td>\n",
       "      <td>0.25523</td>\n",
       "      <td>3.883600e-01</td>\n",
       "      <td>5.961200e-01</td>\n",
       "      <td>3.445500e-01</td>\n",
       "      <td>0.78198</td>\n",
       "      <td>0.69395</td>\n",
       "      <td>8.334600e-01</td>\n",
       "      <td>4.860000e-01</td>\n",
       "      <td>3.846300e-01</td>\n",
       "      <td>9.206800e-01</td>\n",
       "      <td>2.684400e-01</td>\n",
       "      <td>1.734500e-01</td>\n",
       "      <td>0.36768</td>\n",
       "      <td>0.09470</td>\n",
       "      <td>0.81685</td>\n",
       "      <td>8.190600e-01</td>\n",
       "      <td>4.346400e-01</td>\n",
       "      <td>6.545600e-01</td>\n",
       "      <td>4.793300e-01</td>\n",
       "      <td>0.03150</td>\n",
       "      <td>0.11790</td>\n",
       "      <td>5.804700e-01</td>\n",
       "    </tr>\n",
       "    <tr>\n",
       "      <th>wh_stat</th>\n",
       "      <td>2621.50000</td>\n",
       "      <td>101.00000</td>\n",
       "      <td>46.50000</td>\n",
       "      <td>415460.00000</td>\n",
       "      <td>1.00000</td>\n",
       "      <td>66296.50000</td>\n",
       "      <td>8096.50000</td>\n",
       "      <td>1.851631e+06</td>\n",
       "      <td>4.561326e+06</td>\n",
       "      <td>46910.00000</td>\n",
       "      <td>2.038260e+06</td>\n",
       "      <td>4.472106e+06</td>\n",
       "      <td>2.006993e+06</td>\n",
       "      <td>3.700172e+06</td>\n",
       "      <td>26188.00000</td>\n",
       "      <td>4.476846e+06</td>\n",
       "      <td>4.477178e+06</td>\n",
       "      <td>4.609239e+06</td>\n",
       "      <td>449.50000</td>\n",
       "      <td>436272.50000</td>\n",
       "      <td>4.499996e+06</td>\n",
       "      <td>4.532584e+06</td>\n",
       "      <td>4.619024e+06</td>\n",
       "      <td>4.460740e+06</td>\n",
       "      <td>4.424941e+06</td>\n",
       "      <td>4.595395e+06</td>\n",
       "      <td>6726.50000</td>\n",
       "      <td>213238.50000</td>\n",
       "      <td>3.00000</td>\n",
       "      <td>4.540015e+06</td>\n",
       "      <td>4.586086e+06</td>\n",
       "      <td>4.461759e+06</td>\n",
       "      <td>4.634562e+06</td>\n",
       "      <td>0.00000</td>\n",
       "      <td>440491.00000</td>\n",
       "      <td>4.580700e+06</td>\n",
       "    </tr>\n",
       "    <tr>\n",
       "      <th>wh_pvalue</th>\n",
       "      <td>0.56799</td>\n",
       "      <td>0.15652</td>\n",
       "      <td>0.50461</td>\n",
       "      <td>0.08186</td>\n",
       "      <td>0.80000</td>\n",
       "      <td>0.46338</td>\n",
       "      <td>0.24394</td>\n",
       "      <td>7.421400e-01</td>\n",
       "      <td>3.119300e-01</td>\n",
       "      <td>0.99752</td>\n",
       "      <td>8.234600e-01</td>\n",
       "      <td>4.689600e-01</td>\n",
       "      <td>2.012900e-01</td>\n",
       "      <td>5.874800e-01</td>\n",
       "      <td>0.37776</td>\n",
       "      <td>4.957000e-01</td>\n",
       "      <td>4.092700e-01</td>\n",
       "      <td>2.424700e-01</td>\n",
       "      <td>0.91578</td>\n",
       "      <td>0.95072</td>\n",
       "      <td>7.205200e-01</td>\n",
       "      <td>9.059100e-01</td>\n",
       "      <td>1.916900e-01</td>\n",
       "      <td>6.525600e-01</td>\n",
       "      <td>1.404700e-01</td>\n",
       "      <td>3.293700e-01</td>\n",
       "      <td>0.07666</td>\n",
       "      <td>0.06014</td>\n",
       "      <td>0.88889</td>\n",
       "      <td>7.817200e-01</td>\n",
       "      <td>3.762700e-01</td>\n",
       "      <td>3.723300e-01</td>\n",
       "      <td>1.278300e-01</td>\n",
       "      <td>0.34578</td>\n",
       "      <td>0.14145</td>\n",
       "      <td>3.846100e-01</td>\n",
       "    </tr>\n",
       "  </tbody>\n",
       "</table>\n",
       "</div>"
      ],
      "text/plain": [
       "           yardbuildingsqft17  finishedsquarefeet6  architecturalstyletypeid  \\\n",
       "tt_stat               0.55577             -1.37641                  -0.98876   \n",
       "tt_pvalue             0.57906              0.17796                   0.33520   \n",
       "wh_stat            2621.50000            101.00000                  46.50000   \n",
       "wh_pvalue             0.56799              0.15652                   0.50461   \n",
       "\n",
       "           garagetotalsqft  basementsqft  threequarterbathnbr  \\\n",
       "tt_stat           -1.37725      -0.46646              0.73412   \n",
       "tt_pvalue          0.16858       0.67267              0.46308   \n",
       "wh_stat       415460.00000       1.00000          66296.50000   \n",
       "wh_pvalue          0.08186       0.80000              0.46338   \n",
       "\n",
       "           taxdelinquencyyear  heatingorsystemtypeid     yearbuilt  \\\n",
       "tt_stat              -0.11526          -5.214600e-01  1.111820e+00   \n",
       "tt_pvalue             0.90831           6.020700e-01  2.662500e-01   \n",
       "wh_stat            8096.50000           1.851631e+06  4.561326e+06   \n",
       "wh_pvalue             0.24394           7.421400e-01  3.119300e-01   \n",
       "\n",
       "           fireplacecnt       unitcnt  calculatedbathnbr  \\\n",
       "tt_stat         0.10065  4.749100e-01       5.727100e-01   \n",
       "tt_pvalue       0.91986  6.348800e-01       5.668600e-01   \n",
       "wh_stat     46910.00000  2.038260e+06       4.472106e+06   \n",
       "wh_pvalue       0.99752  8.234600e-01       4.689600e-01   \n",
       "\n",
       "           buildingqualitytypeid  lotsizesquarefeet  finishedfloor1squarefeet  \\\n",
       "tt_stat             1.394470e+00      -7.441800e-01                   1.13900   \n",
       "tt_pvalue           1.632500e-01       4.567900e-01                   0.25523   \n",
       "wh_stat             2.006993e+06       3.700172e+06               26188.00000   \n",
       "wh_pvalue           2.012900e-01       5.874800e-01                   0.37776   \n",
       "\n",
       "              longitude   fullbathcnt  landtaxvaluedollarcnt  poolsizesum  \\\n",
       "tt_stat   -8.626600e-01  5.300100e-01           9.452800e-01      0.27773   \n",
       "tt_pvalue  3.883600e-01  5.961200e-01           3.445500e-01      0.78198   \n",
       "wh_stat    4.476846e+06  4.477178e+06           4.609239e+06    449.50000   \n",
       "wh_pvalue  4.957000e-01  4.092700e-01           2.424700e-01      0.91578   \n",
       "\n",
       "           garagecarcnt      latitude  propertylandusetypeid  \\\n",
       "tt_stat         0.39355 -2.102700e-01          -6.967200e-01   \n",
       "tt_pvalue       0.69395  8.334600e-01           4.860000e-01   \n",
       "wh_stat    436272.50000  4.499996e+06           4.532584e+06   \n",
       "wh_pvalue       0.95072  7.205200e-01           9.059100e-01   \n",
       "\n",
       "           taxvaluedollarcnt  calculatedfinishedsquarefeet    bedroomcnt  \\\n",
       "tt_stat         8.694500e-01                  9.958000e-02 -1.106750e+00   \n",
       "tt_pvalue       3.846300e-01                  9.206800e-01  2.684400e-01   \n",
       "wh_stat         4.619024e+06                  4.460740e+06  4.424941e+06   \n",
       "wh_pvalue       1.916900e-01                  6.525600e-01  1.404700e-01   \n",
       "\n",
       "               parcelid  finishedsquarefeet15  numberofstories  \\\n",
       "tt_stat    1.361340e+00              -0.90227         -1.67213   \n",
       "tt_pvalue  1.734500e-01               0.36768          0.09470   \n",
       "wh_stat    4.595395e+06            6726.50000     213238.50000   \n",
       "wh_pvalue  3.293700e-01               0.07666          0.06014   \n",
       "\n",
       "           yardbuildingsqft26       roomcnt   bathroomcnt      logerror  \\\n",
       "tt_stat              -0.24048  2.287600e-01  7.813200e-01  4.474500e-01   \n",
       "tt_pvalue             0.81685  8.190600e-01  4.346400e-01  6.545600e-01   \n",
       "wh_stat               3.00000  4.540015e+06  4.586086e+06  4.461759e+06   \n",
       "wh_pvalue             0.88889  7.817200e-01  3.762700e-01  3.723300e-01   \n",
       "\n",
       "              taxamount  finishedsquarefeet13  airconditioningtypeid  \\\n",
       "tt_stat    7.074200e-01              -5.50000               -1.56428   \n",
       "tt_pvalue  4.793300e-01               0.03150                0.11790   \n",
       "wh_stat    4.634562e+06               0.00000           440491.00000   \n",
       "wh_pvalue  1.278300e-01               0.34578                0.14145   \n",
       "\n",
       "           structuretaxvaluedollarcnt  \n",
       "tt_stat                  5.527300e-01  \n",
       "tt_pvalue                5.804700e-01  \n",
       "wh_stat                  4.580700e+06  \n",
       "wh_pvalue                3.846100e-01  "
      ]
     },
     "metadata": {},
     "output_type": "display_data"
    }
   ],
   "source": [
    "stat_res_df = compute_dfs_ind_stats(df1, df2, num_dist_features)\n",
    "display(stat_res_df)"
   ]
  },
  {
   "cell_type": "code",
   "execution_count": null,
   "id": "f6651f68",
   "metadata": {},
   "outputs": [
    {
     "name": "stdout",
     "output_type": "stream",
     "text": [
      "Number of rows must be a positive integer, not 0\n"
     ]
    },
    {
     "data": {
      "text/plain": [
       "<Figure size 2000x0 with 0 Axes>"
      ]
     },
     "metadata": {},
     "output_type": "display_data"
    }
   ],
   "source": [
    "# NOTE: the stats were already chosen from only numeric columns.\n",
    "alpha = cfg.stat_significant_magnitude / len(stat_res_df)\n",
    "sign_num_cols = stat_res_df.T.query(f'(tt_pvalue <= {alpha}) & (wh_pvalue <= {alpha})').index\n",
    "sign_num_cols = find_shared_cols(sign_num_cols, [c for c in most_distinguishable_features \n",
    "                                                 if c not in wrangling_cols.extreme_missing])\n",
    "\n",
    "sign_mod_clip = find_shared_cols(sign_num_cols, wrangling_cols.moderate_clip)\n",
    "sign_ext_clip = find_shared_cols(sign_num_cols, wrangling_cols.extreme_clip)\n",
    "\n",
    "cur_dfs = [df1.copy(deep=True), df2.copy(deep=True)]\n",
    "clips = [df1[sign_mod_clip].quantile(0.985), df1[sign_ext_clip].quantile(0.95)]\n",
    "for df in cur_dfs:\n",
    "    df[sign_mod_clip] = df[sign_mod_clip].clip(upper=clips[0], axis=1)\n",
    "    df[sign_ext_clip] = df[sign_ext_clip].clip(upper=clips[1], axis=1)\n",
    "\n",
    "try:\n",
    "    plot_hist_dfs_comparison(cur_dfs, sign_num_cols)\n",
    "except ValueError as e:\n",
    "    print(e)"
   ]
  },
  {
   "cell_type": "code",
   "execution_count": null,
   "id": "0d5e09e1",
   "metadata": {},
   "outputs": [
    {
     "name": "stdout",
     "output_type": "stream",
     "text": [
      "Buildingclasstypeid F/T ratio for Dataset #1: 4964.0\n",
      "Buildingclasstypeid F/T ratio for Dataset #2: inf\n",
      "\n",
      "Storytypeid F/T ratio for Dataset #1: 1240.25\n",
      "Storytypeid F/T ratio for Dataset #2: 1822.0\n",
      "\n",
      "Poolcnt F/T ratio for Dataset #1: 4.041\n",
      "Poolcnt F/T ratio for Dataset #2: 3.836\n",
      "\n",
      "Decktypeid F/T ratio for Dataset #1: 126.308\n",
      "Decktypeid F/T ratio for Dataset #2: 164.727\n",
      "\n",
      "Pooltypeid10 F/T ratio for Dataset #1: 69.929\n",
      "Pooltypeid10 F/T ratio for Dataset #2: 90.15\n",
      "\n",
      "Pooltypeid7 F/T ratio for Dataset #1: 4.339\n",
      "Pooltypeid7 F/T ratio for Dataset #2: 4.121\n",
      "\n",
      "Hashottuborspa F/T ratio for Dataset #1: 38.72\n",
      "Hashottuborspa F/T ratio for Dataset #2: 43.463\n",
      "\n",
      "Taxdelinquencyflag F/T ratio for Dataset #1: 20.494\n",
      "Taxdelinquencyflag F/T ratio for Dataset #2: 22.987\n",
      "\n",
      "Pooltypeid2 F/T ratio for Dataset #1: 89.273\n",
      "Pooltypeid2 F/T ratio for Dataset #2: 85.81\n",
      "\n",
      "Typeconstructiontypeid F/T ratio for Dataset #1: 412.75\n",
      "Typeconstructiontypeid F/T ratio for Dataset #2: 181.3\n",
      "\n",
      "Fireplaceflag F/T ratio for Dataset #1: 380.923\n",
      "Fireplaceflag F/T ratio for Dataset #2: 226.875\n",
      "\n",
      "raw_census_group_id: χ² = 8.6166, p = 3.76e-01\n",
      "raw_census_suffix_id: χ² = 57.3296, p = 5.37e-01\n",
      "census_group_id: χ² = 7.7821, p = 3.52e-01\n",
      "census_suffix_id: χ² = 61.1688, p = 3.98e-01\n",
      "raw_census_fips: χ² = 4.0193, p = 1.34e-01\n",
      "census_main_id: χ² = 1226.5041, p = 2.70e-01\n",
      "propertyzoningdesc: χ² = 796.2194, p = 3.54e-01\n",
      "regionidcity: χ² = 175.6334, p = 3.28e-01\n",
      "regionidneighborhood: χ² = 327.9859, p = 2.96e-01\n",
      "propertycountylandusecode: χ² = 36.0802, p = 7.28e-01\n",
      "census_group_number_id: χ² = 110.1291, p = 8.84e-01\n",
      "regionidzip: χ² = 397.4941, p = 2.24e-01\n",
      "census_fips: χ² = 3.4040, p = 3.33e-01\n",
      "fips: χ² = 2.5360, p = 2.81e-01\n",
      "raw_census_main_id: χ² = 1237.5205, p = 2.58e-01\n",
      "regionidcounty: χ² = 2.5360, p = 2.81e-01\n",
      "raw_census_group_number_id: χ² = 218.2874, p = 3.87e-01\n"
     ]
    }
   ],
   "source": [
    "for c in bool_dist_features:\n",
    "    for j, df in enumerate(dfs):\n",
    "        counts = df[c].value_counts()\n",
    "        try:\n",
    "            ratio = np.round(counts[False] / counts[True], 3)\n",
    "        except KeyError:\n",
    "            ratio = float('inf')\n",
    "        print(f\"{c.capitalize()} F/T ratio for Dataset #{j + 1}:\", ratio)\n",
    "    print()\n",
    "\n",
    "\n",
    "def run_bin_chi2(x1, x2, col):\n",
    "    values = pd.concat([x1, x2], ignore_index=True)\n",
    "    labels = ['Dataset_1']*len(x1) + ['Dataset_2']*len(x2)\n",
    "    contingency = pd.crosstab(values, labels)\n",
    "\n",
    "    chi2, p_val, _, _ = stats.chi2_contingency(contingency)\n",
    "    print(f\"{col}: χ² = {chi2:.4f}, p = {p_val:.2e}\")\n",
    "\n",
    "for c in cat_dist_features:\n",
    "    run_bin_chi2(df1[c], df2[c], c)"
   ]
  },
  {
   "cell_type": "markdown",
   "id": "89247c97",
   "metadata": {},
   "source": [
    "### Data drifting detection tests"
   ]
  },
  {
   "cell_type": "markdown",
   "id": "3fe60a8f",
   "metadata": {},
   "source": [
    "1. KS\n",
    "2. PSI\n",
    "3. KL divergency\n",
    "4. JSD\n",
    "5. Wassesterian distance"
   ]
  },
  {
   "cell_type": "code",
   "execution_count": 8,
   "id": "8fc6a9c1",
   "metadata": {},
   "outputs": [
    {
     "data": {
      "application/vnd.jupyter.widget-view+json": {
       "model_id": "7c7a08a1c2054b0fa9d75ac9de78c723",
       "version_major": 2,
       "version_minor": 0
      },
      "text/plain": [
       "  0%|          | 0/5 [00:00<?, ?it/s]"
      ]
     },
     "metadata": {},
     "output_type": "display_data"
    },
    {
     "data": {
      "application/vnd.jupyter.widget-view+json": {
       "model_id": "c80959946ac942b3b277da5e5af3c919",
       "version_major": 2,
       "version_minor": 0
      },
      "text/plain": [
       "  0%|          | 0/35 [00:00<?, ?it/s]"
      ]
     },
     "metadata": {},
     "output_type": "display_data"
    },
    {
     "name": "stdout",
     "output_type": "stream",
     "text": [
      "Calculated ks. \n"
     ]
    },
    {
     "data": {
      "application/vnd.jupyter.widget-view+json": {
       "model_id": "c7cf435185554ce5a8dada64c8883b3c",
       "version_major": 2,
       "version_minor": 0
      },
      "text/plain": [
       "  0%|          | 0/63 [00:00<?, ?it/s]"
      ]
     },
     "metadata": {},
     "output_type": "display_data"
    },
    {
     "name": "stdout",
     "output_type": "stream",
     "text": [
      "Calculated psi. \n"
     ]
    },
    {
     "data": {
      "application/vnd.jupyter.widget-view+json": {
       "model_id": "9a5e6303d48247b2ace3ccfabac8d1a5",
       "version_major": 2,
       "version_minor": 0
      },
      "text/plain": [
       "  0%|          | 0/50 [00:00<?, ?it/s]"
      ]
     },
     "metadata": {},
     "output_type": "display_data"
    },
    {
     "name": "stdout",
     "output_type": "stream",
     "text": [
      "Calculated kl_div. \n"
     ]
    },
    {
     "data": {
      "application/vnd.jupyter.widget-view+json": {
       "model_id": "0631bd346d694013bd50c9dfbb4e050d",
       "version_major": 2,
       "version_minor": 0
      },
      "text/plain": [
       "  0%|          | 0/50 [00:00<?, ?it/s]"
      ]
     },
     "metadata": {},
     "output_type": "display_data"
    },
    {
     "name": "stdout",
     "output_type": "stream",
     "text": [
      "Calculated jsd. \n"
     ]
    },
    {
     "data": {
      "application/vnd.jupyter.widget-view+json": {
       "model_id": "46c465bc1b374e8d89a6c0ad36813585",
       "version_major": 2,
       "version_minor": 0
      },
      "text/plain": [
       "  0%|          | 0/50 [00:00<?, ?it/s]"
      ]
     },
     "metadata": {},
     "output_type": "display_data"
    },
    {
     "name": "stdout",
     "output_type": "stream",
     "text": [
      "Calculated wasserstein_dist. \n",
      "Saved results to D:\\Coding\\VSCFiles\\IndependentProjects\\Kaggle\\zillow-2016\\reports\\analysis_results\\drifts\\drift_detection_train_test.csv\n"
     ]
    },
    {
     "data": {
      "application/vnd.jupyter.widget-view+json": {
       "model_id": "b98deebd4aff41109092efe8a082e8f9",
       "version_major": 2,
       "version_minor": 0
      },
      "text/plain": [
       "  0%|          | 0/4 [00:00<?, ?it/s]"
      ]
     },
     "metadata": {},
     "output_type": "display_data"
    },
    {
     "data": {
      "application/vnd.jupyter.widget-view+json": {
       "model_id": "df8a09e9354042799bc855d430ff49ae",
       "version_major": 2,
       "version_minor": 0
      },
      "text/plain": [
       "  0%|          | 0/50 [00:00<?, ?it/s]"
      ]
     },
     "metadata": {},
     "output_type": "display_data"
    },
    {
     "name": "stdout",
     "output_type": "stream",
     "text": [
      "Calculated ttest. \n"
     ]
    },
    {
     "data": {
      "application/vnd.jupyter.widget-view+json": {
       "model_id": "7b9fcf2c14164dcab276eb0fc86a417e",
       "version_major": 2,
       "version_minor": 0
      },
      "text/plain": [
       "  0%|          | 0/50 [00:00<?, ?it/s]"
      ]
     },
     "metadata": {},
     "output_type": "display_data"
    },
    {
     "name": "stdout",
     "output_type": "stream",
     "text": [
      "Calculated mannwhitney. \n"
     ]
    },
    {
     "data": {
      "application/vnd.jupyter.widget-view+json": {
       "model_id": "97001da9271f4b788448657748567a6f",
       "version_major": 2,
       "version_minor": 0
      },
      "text/plain": [
       "  0%|          | 0/50 [00:00<?, ?it/s]"
      ]
     },
     "metadata": {},
     "output_type": "display_data"
    },
    {
     "name": "stdout",
     "output_type": "stream",
     "text": [
      "Calculated ks. \n"
     ]
    },
    {
     "data": {
      "application/vnd.jupyter.widget-view+json": {
       "model_id": "0ea219f29461402f9e116e2af849a62e",
       "version_major": 2,
       "version_minor": 0
      },
      "text/plain": [
       "  0%|          | 0/17 [00:00<?, ?it/s]"
      ]
     },
     "metadata": {},
     "output_type": "display_data"
    },
    {
     "name": "stdout",
     "output_type": "stream",
     "text": [
      "Calculated chi2. \n",
      "Saved results to D:\\Coding\\VSCFiles\\IndependentProjects\\Kaggle\\zillow-2016\\reports\\analysis_results\\drifts\\two_samp_hypothesis_train_test.csv\n"
     ]
    },
    {
     "data": {
      "application/vnd.jupyter.widget-view+json": {
       "model_id": "204a8645b2f544d4a879cdeda99789ff",
       "version_major": 2,
       "version_minor": 0
      },
      "text/plain": [
       "  0%|          | 0/2 [00:00<?, ?it/s]"
      ]
     },
     "metadata": {},
     "output_type": "display_data"
    },
    {
     "data": {
      "application/vnd.jupyter.widget-view+json": {
       "model_id": "683d712c1d83457581184cda1bb4379a",
       "version_major": 2,
       "version_minor": 0
      },
      "text/plain": [
       "  0%|          | 0/17 [00:00<?, ?it/s]"
      ]
     },
     "metadata": {},
     "output_type": "display_data"
    },
    {
     "name": "stdout",
     "output_type": "stream",
     "text": [
      "Calculated cramers_v. \n"
     ]
    },
    {
     "data": {
      "application/vnd.jupyter.widget-view+json": {
       "model_id": "c1df5b13a76645af95f809a81c433049",
       "version_major": 2,
       "version_minor": 0
      },
      "text/plain": [
       "  0%|          | 0/11 [00:00<?, ?it/s]"
      ]
     },
     "metadata": {},
     "output_type": "display_data"
    },
    {
     "name": "stdout",
     "output_type": "stream",
     "text": [
      "Calculated odds_ratio. \n",
      "Saved results to D:\\Coding\\VSCFiles\\IndependentProjects\\Kaggle\\zillow-2016\\reports\\analysis_results\\drifts\\categorical_effect_sizes_train_test.csv\n"
     ]
    },
    {
     "data": {
      "application/vnd.jupyter.widget-view+json": {
       "model_id": "917e9fcda0634cf485b2dca18c2e9238",
       "version_major": 2,
       "version_minor": 0
      },
      "text/plain": [
       "  0%|          | 0/3 [00:00<?, ?it/s]"
      ]
     },
     "metadata": {},
     "output_type": "display_data"
    },
    {
     "data": {
      "application/vnd.jupyter.widget-view+json": {
       "model_id": "0c30286b3e134c5fa24912311277160e",
       "version_major": 2,
       "version_minor": 0
      },
      "text/plain": [
       "  0%|          | 0/35 [00:00<?, ?it/s]"
      ]
     },
     "metadata": {},
     "output_type": "display_data"
    },
    {
     "name": "stdout",
     "output_type": "stream",
     "text": [
      "Calculated cohen_d. \n"
     ]
    },
    {
     "data": {
      "application/vnd.jupyter.widget-view+json": {
       "model_id": "fab490da384d47cb918778968851a45d",
       "version_major": 2,
       "version_minor": 0
      },
      "text/plain": [
       "  0%|          | 0/35 [00:00<?, ?it/s]"
      ]
     },
     "metadata": {},
     "output_type": "display_data"
    },
    {
     "name": "stdout",
     "output_type": "stream",
     "text": [
      "Calculated hedges_g. \n"
     ]
    },
    {
     "data": {
      "application/vnd.jupyter.widget-view+json": {
       "model_id": "f4cb3b50a74d4a0cbc19dd691bb5d9a3",
       "version_major": 2,
       "version_minor": 0
      },
      "text/plain": [
       "  0%|          | 0/35 [00:00<?, ?it/s]"
      ]
     },
     "metadata": {},
     "output_type": "display_data"
    },
    {
     "name": "stdout",
     "output_type": "stream",
     "text": [
      "Calculated glass_d. \n",
      "Saved results to D:\\Coding\\VSCFiles\\IndependentProjects\\Kaggle\\zillow-2016\\reports\\analysis_results\\drifts\\ttest_effect_sizes_train_test.csv\n"
     ]
    },
    {
     "data": {
      "application/vnd.jupyter.widget-view+json": {
       "model_id": "1bffb81ac1814f9c92d579448bfa69aa",
       "version_major": 2,
       "version_minor": 0
      },
      "text/plain": [
       "  0%|          | 0/2 [00:00<?, ?it/s]"
      ]
     },
     "metadata": {},
     "output_type": "display_data"
    },
    {
     "data": {
      "application/vnd.jupyter.widget-view+json": {
       "model_id": "adf2f620985d4e6d89bfca9a4e98bf02",
       "version_major": 2,
       "version_minor": 0
      },
      "text/plain": [
       "  0%|          | 0/35 [00:00<?, ?it/s]"
      ]
     },
     "metadata": {},
     "output_type": "display_data"
    },
    {
     "name": "stdout",
     "output_type": "stream",
     "text": [
      "Error occurred while calculating eta2: module 'statsmodels' has no attribute 'formula'.\n"
     ]
    },
    {
     "data": {
      "application/vnd.jupyter.widget-view+json": {
       "model_id": "dde6f18f8c0941c6888b9dabf65c8491",
       "version_major": 2,
       "version_minor": 0
      },
      "text/plain": [
       "  0%|          | 0/35 [00:00<?, ?it/s]"
      ]
     },
     "metadata": {},
     "output_type": "display_data"
    },
    {
     "name": "stdout",
     "output_type": "stream",
     "text": [
      "Error occurred while calculating omega2: module 'statsmodels' has no attribute 'formula'.\n",
      "Saved results to D:\\Coding\\VSCFiles\\IndependentProjects\\Kaggle\\zillow-2016\\reports\\analysis_results\\drifts\\group_effect_sizes_train_test.csv\n"
     ]
    },
    {
     "data": {
      "application/vnd.jupyter.widget-view+json": {
       "model_id": "a76f07b99d374d72a721936d62d66944",
       "version_major": 2,
       "version_minor": 0
      },
      "text/plain": [
       "  0%|          | 0/7 [00:00<?, ?it/s]"
      ]
     },
     "metadata": {},
     "output_type": "display_data"
    },
    {
     "data": {
      "application/vnd.jupyter.widget-view+json": {
       "model_id": "bf6dbe58d37f48f0b0840567ae7dc27f",
       "version_major": 2,
       "version_minor": 0
      },
      "text/plain": [
       "  0%|          | 0/35 [00:00<?, ?it/s]"
      ]
     },
     "metadata": {},
     "output_type": "display_data"
    },
    {
     "name": "stdout",
     "output_type": "stream",
     "text": [
      "Calculated pearson. \n"
     ]
    },
    {
     "data": {
      "application/vnd.jupyter.widget-view+json": {
       "model_id": "fe328b088e4e4e3e876ff8823de282f7",
       "version_major": 2,
       "version_minor": 0
      },
      "text/plain": [
       "  0%|          | 0/35 [00:00<?, ?it/s]"
      ]
     },
     "metadata": {},
     "output_type": "display_data"
    },
    {
     "name": "stdout",
     "output_type": "stream",
     "text": [
      "Calculated distance_correlation. \n"
     ]
    },
    {
     "data": {
      "application/vnd.jupyter.widget-view+json": {
       "model_id": "eecdc141306144f48bdfffe71a47d284",
       "version_major": 2,
       "version_minor": 0
      },
      "text/plain": [
       "  0%|          | 0/50 [00:00<?, ?it/s]"
      ]
     },
     "metadata": {},
     "output_type": "display_data"
    },
    {
     "name": "stdout",
     "output_type": "stream",
     "text": [
      "Calculated spearman. \n"
     ]
    },
    {
     "data": {
      "application/vnd.jupyter.widget-view+json": {
       "model_id": "bc5c9f182a3e42ccbd319e45a02a5ca0",
       "version_major": 2,
       "version_minor": 0
      },
      "text/plain": [
       "  0%|          | 0/50 [00:00<?, ?it/s]"
      ]
     },
     "metadata": {},
     "output_type": "display_data"
    },
    {
     "name": "stdout",
     "output_type": "stream",
     "text": [
      "Calculated kendall. \n"
     ]
    },
    {
     "data": {
      "application/vnd.jupyter.widget-view+json": {
       "model_id": "0dc7a1b113484550ba249edb99169c4b",
       "version_major": 2,
       "version_minor": 0
      },
      "text/plain": [
       "  0%|          | 0/35 [00:00<?, ?it/s]"
      ]
     },
     "metadata": {},
     "output_type": "display_data"
    },
    {
     "name": "stdout",
     "output_type": "stream",
     "text": [
      "Calculated point_biserial. \n"
     ]
    },
    {
     "data": {
      "application/vnd.jupyter.widget-view+json": {
       "model_id": "305ade1f4728407ba24592df4bbcc6fd",
       "version_major": 2,
       "version_minor": 0
      },
      "text/plain": [
       "  0%|          | 0/15 [00:00<?, ?it/s]"
      ]
     },
     "metadata": {},
     "output_type": "display_data"
    },
    {
     "name": "stdout",
     "output_type": "stream",
     "text": [
      "Error occurred while calculating rank_biserial: bad operand type for unary ~: 'Categorical'.\n"
     ]
    },
    {
     "data": {
      "application/vnd.jupyter.widget-view+json": {
       "model_id": "84eff315d8e04b0f9546d81c349ba5fe",
       "version_major": 2,
       "version_minor": 0
      },
      "text/plain": [
       "  0%|          | 0/11 [00:00<?, ?it/s]"
      ]
     },
     "metadata": {},
     "output_type": "display_data"
    },
    {
     "name": "stdout",
     "output_type": "stream",
     "text": [
      "Calculated phi_coef. \n",
      "Saved results to D:\\Coding\\VSCFiles\\IndependentProjects\\Kaggle\\zillow-2016\\reports\\analysis_results\\drifts\\relationship_effect_sizes_train_test.csv\n"
     ]
    },
    {
     "data": {
      "application/vnd.jupyter.widget-view+json": {
       "model_id": "9b9be5e763cb4710a75ccaf2fa936e8a",
       "version_major": 2,
       "version_minor": 0
      },
      "text/plain": [
       "  0%|          | 0/2 [00:00<?, ?it/s]"
      ]
     },
     "metadata": {},
     "output_type": "display_data"
    },
    {
     "data": {
      "application/vnd.jupyter.widget-view+json": {
       "model_id": "654ff96d176d4dafa850333663973d30",
       "version_major": 2,
       "version_minor": 0
      },
      "text/plain": [
       "  0%|          | 0/35 [00:00<?, ?it/s]"
      ]
     },
     "metadata": {},
     "output_type": "display_data"
    },
    {
     "ename": "KeyboardInterrupt",
     "evalue": "",
     "output_type": "error",
     "traceback": [
      "\u001b[1;31m---------------------------------------------------------------------------\u001b[0m",
      "\u001b[1;31mKeyboardInterrupt\u001b[0m                         Traceback (most recent call last)",
      "Cell \u001b[1;32mIn[8], line 16\u001b[0m\n\u001b[0;32m     13\u001b[0m \u001b[38;5;28;01mif\u001b[39;00m \u001b[38;5;124m'\u001b[39m\u001b[38;5;124mtwo_samp_hypothesis\u001b[39m\u001b[38;5;124m'\u001b[39m \u001b[38;5;129;01min\u001b[39;00m path\u001b[38;5;241m.\u001b[39mstem:\n\u001b[0;32m     14\u001b[0m     methods \u001b[38;5;241m=\u001b[39m [\u001b[38;5;124m'\u001b[39m\u001b[38;5;124mttest\u001b[39m\u001b[38;5;124m'\u001b[39m, \u001b[38;5;124m'\u001b[39m\u001b[38;5;124mmannwhitney\u001b[39m\u001b[38;5;124m'\u001b[39m, \u001b[38;5;124m'\u001b[39m\u001b[38;5;124mks\u001b[39m\u001b[38;5;124m'\u001b[39m, \u001b[38;5;124m'\u001b[39m\u001b[38;5;124mchi2\u001b[39m\u001b[38;5;124m'\u001b[39m]\n\u001b[1;32m---> 16\u001b[0m results \u001b[38;5;241m=\u001b[39m \u001b[43mtest_instance\u001b[49m\u001b[38;5;241;43m.\u001b[39;49m\u001b[43mcalc_methods\u001b[49m\u001b[43m(\u001b[49m\u001b[43mmethods\u001b[49m\u001b[38;5;241;43m=\u001b[39;49m\u001b[43mmethods\u001b[49m\u001b[43m)\u001b[49m\n\u001b[0;32m     17\u001b[0m results\u001b[38;5;241m.\u001b[39mto_csv(path)\n\u001b[0;32m     18\u001b[0m \u001b[38;5;28mprint\u001b[39m(\u001b[38;5;124mf\u001b[39m\u001b[38;5;124m\"\u001b[39m\u001b[38;5;124mSaved results to \u001b[39m\u001b[38;5;132;01m{\u001b[39;00mpath\u001b[38;5;132;01m}\u001b[39;00m\u001b[38;5;124m\"\u001b[39m)\n",
      "Cell \u001b[1;32mIn[6], line 41\u001b[0m, in \u001b[0;36mCalcMethods.calc_methods\u001b[1;34m(self, methods)\u001b[0m\n\u001b[0;32m     39\u001b[0m \u001b[38;5;28;01mif\u001b[39;00m \u001b[38;5;28mhasattr\u001b[39m(\u001b[38;5;28mself\u001b[39m, \u001b[38;5;124mf\u001b[39m\u001b[38;5;124m\"\u001b[39m\u001b[38;5;124mcalc_\u001b[39m\u001b[38;5;132;01m{\u001b[39;00mmethod\u001b[38;5;132;01m}\u001b[39;00m\u001b[38;5;124m\"\u001b[39m):\n\u001b[0;32m     40\u001b[0m     \u001b[38;5;28;01mtry\u001b[39;00m:\n\u001b[1;32m---> 41\u001b[0m         results[method] \u001b[38;5;241m=\u001b[39m \u001b[38;5;28;43mgetattr\u001b[39;49m\u001b[43m(\u001b[49m\u001b[38;5;28;43mself\u001b[39;49m\u001b[43m,\u001b[49m\u001b[43m \u001b[49m\u001b[38;5;124;43mf\u001b[39;49m\u001b[38;5;124;43m\"\u001b[39;49m\u001b[38;5;124;43mcalc_\u001b[39;49m\u001b[38;5;132;43;01m{\u001b[39;49;00m\u001b[43mmethod\u001b[49m\u001b[38;5;132;43;01m}\u001b[39;49;00m\u001b[38;5;124;43m\"\u001b[39;49m\u001b[43m)\u001b[49m\u001b[43m(\u001b[49m\u001b[43m)\u001b[49m\n\u001b[0;32m     42\u001b[0m         \u001b[38;5;28mprint\u001b[39m(\u001b[38;5;124mf\u001b[39m\u001b[38;5;124m'\u001b[39m\u001b[38;5;124mCalculated \u001b[39m\u001b[38;5;132;01m{\u001b[39;00mmethod\u001b[38;5;132;01m}\u001b[39;00m\u001b[38;5;124m. \u001b[39m\u001b[38;5;124m'\u001b[39m)\n\u001b[0;32m     43\u001b[0m     \u001b[38;5;28;01mexcept\u001b[39;00m \u001b[38;5;167;01mException\u001b[39;00m \u001b[38;5;28;01mas\u001b[39;00m e:\n",
      "Cell \u001b[1;32mIn[6], line 469\u001b[0m, in \u001b[0;36mTwoSampUniversalEffectSizes.calc_cliff_delta\u001b[1;34m(self)\u001b[0m\n\u001b[0;32m    467\u001b[0m cliff_delta_results \u001b[38;5;241m=\u001b[39m []\n\u001b[0;32m    468\u001b[0m \u001b[38;5;28;01mfor\u001b[39;00m feature \u001b[38;5;129;01min\u001b[39;00m tqdm(\u001b[38;5;28mself\u001b[39m\u001b[38;5;241m.\u001b[39mcontinuous_features):\n\u001b[1;32m--> 469\u001b[0m     cliff_delta \u001b[38;5;241m=\u001b[39m \u001b[38;5;28;43mself\u001b[39;49m\u001b[38;5;241;43m.\u001b[39;49m\u001b[43m_calc_cliff_delta_formula\u001b[49m\u001b[43m(\u001b[49m\n\u001b[0;32m    470\u001b[0m \u001b[43m        \u001b[49m\u001b[38;5;28;43mself\u001b[39;49m\u001b[38;5;241;43m.\u001b[39;49m\u001b[43mdf1\u001b[49m\u001b[43m[\u001b[49m\u001b[43mfeature\u001b[49m\u001b[43m]\u001b[49m\u001b[38;5;241;43m.\u001b[39;49m\u001b[43mdropna\u001b[49m\u001b[43m(\u001b[49m\u001b[43m)\u001b[49m\u001b[43m,\u001b[49m\u001b[43m \u001b[49m\u001b[38;5;28;43mself\u001b[39;49m\u001b[38;5;241;43m.\u001b[39;49m\u001b[43mdf2\u001b[49m\u001b[43m[\u001b[49m\u001b[43mfeature\u001b[49m\u001b[43m]\u001b[49m\u001b[38;5;241;43m.\u001b[39;49m\u001b[43mdropna\u001b[49m\u001b[43m(\u001b[49m\u001b[43m)\u001b[49m\n\u001b[0;32m    471\u001b[0m \u001b[43m    \u001b[49m\u001b[43m)\u001b[49m\n\u001b[0;32m    472\u001b[0m     cliff_delta_results\u001b[38;5;241m.\u001b[39mappend((feature, cliff_delta))\n\u001b[0;32m    474\u001b[0m res_df \u001b[38;5;241m=\u001b[39m pd\u001b[38;5;241m.\u001b[39mDataFrame(cliff_delta_results, columns\u001b[38;5;241m=\u001b[39m[\u001b[38;5;124m'\u001b[39m\u001b[38;5;124mfeature\u001b[39m\u001b[38;5;124m'\u001b[39m, \u001b[38;5;124m'\u001b[39m\u001b[38;5;124mcliff_delta\u001b[39m\u001b[38;5;124m'\u001b[39m])\n",
      "Cell \u001b[1;32mIn[6], line 481\u001b[0m, in \u001b[0;36mTwoSampUniversalEffectSizes._calc_cliff_delta_formula\u001b[1;34m(self, x, y)\u001b[0m\n\u001b[0;32m    479\u001b[0m \u001b[38;5;28;01mfor\u001b[39;00m value_x \u001b[38;5;129;01min\u001b[39;00m x:\n\u001b[0;32m    480\u001b[0m     more \u001b[38;5;241m+\u001b[39m\u001b[38;5;241m=\u001b[39m np\u001b[38;5;241m.\u001b[39msum(value_x \u001b[38;5;241m>\u001b[39m y)\n\u001b[1;32m--> 481\u001b[0m     less \u001b[38;5;241m+\u001b[39m\u001b[38;5;241m=\u001b[39m \u001b[43mnp\u001b[49m\u001b[38;5;241;43m.\u001b[39;49m\u001b[43msum\u001b[49m\u001b[43m(\u001b[49m\u001b[43mvalue_x\u001b[49m\u001b[43m \u001b[49m\u001b[38;5;241;43m<\u001b[39;49m\u001b[43m \u001b[49m\u001b[43my\u001b[49m\u001b[43m)\u001b[49m\n\u001b[0;32m    482\u001b[0m n_x \u001b[38;5;241m=\u001b[39m \u001b[38;5;28mlen\u001b[39m(x)\n\u001b[0;32m    483\u001b[0m n_y \u001b[38;5;241m=\u001b[39m \u001b[38;5;28mlen\u001b[39m(y)\n",
      "File \u001b[1;32mc:\\Python312\\Lib\\site-packages\\numpy\\core\\fromnumeric.py:2313\u001b[0m, in \u001b[0;36msum\u001b[1;34m(a, axis, dtype, out, keepdims, initial, where)\u001b[0m\n\u001b[0;32m   2310\u001b[0m         \u001b[38;5;28;01mreturn\u001b[39;00m out\n\u001b[0;32m   2311\u001b[0m     \u001b[38;5;28;01mreturn\u001b[39;00m res\n\u001b[1;32m-> 2313\u001b[0m \u001b[38;5;28;01mreturn\u001b[39;00m \u001b[43m_wrapreduction\u001b[49m\u001b[43m(\u001b[49m\u001b[43ma\u001b[49m\u001b[43m,\u001b[49m\u001b[43m \u001b[49m\u001b[43mnp\u001b[49m\u001b[38;5;241;43m.\u001b[39;49m\u001b[43madd\u001b[49m\u001b[43m,\u001b[49m\u001b[43m \u001b[49m\u001b[38;5;124;43m'\u001b[39;49m\u001b[38;5;124;43msum\u001b[39;49m\u001b[38;5;124;43m'\u001b[39;49m\u001b[43m,\u001b[49m\u001b[43m \u001b[49m\u001b[43maxis\u001b[49m\u001b[43m,\u001b[49m\u001b[43m \u001b[49m\u001b[43mdtype\u001b[49m\u001b[43m,\u001b[49m\u001b[43m \u001b[49m\u001b[43mout\u001b[49m\u001b[43m,\u001b[49m\u001b[43m \u001b[49m\u001b[43mkeepdims\u001b[49m\u001b[38;5;241;43m=\u001b[39;49m\u001b[43mkeepdims\u001b[49m\u001b[43m,\u001b[49m\n\u001b[0;32m   2314\u001b[0m \u001b[43m                      \u001b[49m\u001b[43minitial\u001b[49m\u001b[38;5;241;43m=\u001b[39;49m\u001b[43minitial\u001b[49m\u001b[43m,\u001b[49m\u001b[43m \u001b[49m\u001b[43mwhere\u001b[49m\u001b[38;5;241;43m=\u001b[39;49m\u001b[43mwhere\u001b[49m\u001b[43m)\u001b[49m\n",
      "File \u001b[1;32mc:\\Python312\\Lib\\site-packages\\numpy\\core\\fromnumeric.py:86\u001b[0m, in \u001b[0;36m_wrapreduction\u001b[1;34m(obj, ufunc, method, axis, dtype, out, **kwargs)\u001b[0m\n\u001b[0;32m     84\u001b[0m             \u001b[38;5;28;01mreturn\u001b[39;00m reduction(axis\u001b[38;5;241m=\u001b[39maxis, dtype\u001b[38;5;241m=\u001b[39mdtype, out\u001b[38;5;241m=\u001b[39mout, \u001b[38;5;241m*\u001b[39m\u001b[38;5;241m*\u001b[39mpasskwargs)\n\u001b[0;32m     85\u001b[0m         \u001b[38;5;28;01melse\u001b[39;00m:\n\u001b[1;32m---> 86\u001b[0m             \u001b[38;5;28;01mreturn\u001b[39;00m \u001b[43mreduction\u001b[49m\u001b[43m(\u001b[49m\u001b[43maxis\u001b[49m\u001b[38;5;241;43m=\u001b[39;49m\u001b[43maxis\u001b[49m\u001b[43m,\u001b[49m\u001b[43m \u001b[49m\u001b[43mout\u001b[49m\u001b[38;5;241;43m=\u001b[39;49m\u001b[43mout\u001b[49m\u001b[43m,\u001b[49m\u001b[43m \u001b[49m\u001b[38;5;241;43m*\u001b[39;49m\u001b[38;5;241;43m*\u001b[39;49m\u001b[43mpasskwargs\u001b[49m\u001b[43m)\u001b[49m\n\u001b[0;32m     88\u001b[0m \u001b[38;5;28;01mreturn\u001b[39;00m ufunc\u001b[38;5;241m.\u001b[39mreduce(obj, axis, dtype, out, \u001b[38;5;241m*\u001b[39m\u001b[38;5;241m*\u001b[39mpasskwargs)\n",
      "File \u001b[1;32mc:\\Python312\\Lib\\site-packages\\pandas\\core\\series.py:6528\u001b[0m, in \u001b[0;36mSeries.sum\u001b[1;34m(self, axis, skipna, numeric_only, min_count, **kwargs)\u001b[0m\n\u001b[0;32m   6519\u001b[0m \u001b[38;5;129m@doc\u001b[39m(make_doc(\u001b[38;5;124m\"\u001b[39m\u001b[38;5;124msum\u001b[39m\u001b[38;5;124m\"\u001b[39m, ndim\u001b[38;5;241m=\u001b[39m\u001b[38;5;241m1\u001b[39m))\n\u001b[0;32m   6520\u001b[0m \u001b[38;5;28;01mdef\u001b[39;00m \u001b[38;5;21msum\u001b[39m(\n\u001b[0;32m   6521\u001b[0m     \u001b[38;5;28mself\u001b[39m,\n\u001b[1;32m   (...)\u001b[0m\n\u001b[0;32m   6526\u001b[0m     \u001b[38;5;241m*\u001b[39m\u001b[38;5;241m*\u001b[39mkwargs,\n\u001b[0;32m   6527\u001b[0m ):\n\u001b[1;32m-> 6528\u001b[0m     \u001b[38;5;28;01mreturn\u001b[39;00m \u001b[43mNDFrame\u001b[49m\u001b[38;5;241;43m.\u001b[39;49m\u001b[43msum\u001b[49m\u001b[43m(\u001b[49m\u001b[38;5;28;43mself\u001b[39;49m\u001b[43m,\u001b[49m\u001b[43m \u001b[49m\u001b[43maxis\u001b[49m\u001b[43m,\u001b[49m\u001b[43m \u001b[49m\u001b[43mskipna\u001b[49m\u001b[43m,\u001b[49m\u001b[43m \u001b[49m\u001b[43mnumeric_only\u001b[49m\u001b[43m,\u001b[49m\u001b[43m \u001b[49m\u001b[43mmin_count\u001b[49m\u001b[43m,\u001b[49m\u001b[43m \u001b[49m\u001b[38;5;241;43m*\u001b[39;49m\u001b[38;5;241;43m*\u001b[39;49m\u001b[43mkwargs\u001b[49m\u001b[43m)\u001b[49m\n",
      "File \u001b[1;32mc:\\Python312\\Lib\\site-packages\\pandas\\core\\generic.py:12506\u001b[0m, in \u001b[0;36mNDFrame.sum\u001b[1;34m(self, axis, skipna, numeric_only, min_count, **kwargs)\u001b[0m\n\u001b[0;32m  12498\u001b[0m \u001b[38;5;28;01mdef\u001b[39;00m \u001b[38;5;21msum\u001b[39m(\n\u001b[0;32m  12499\u001b[0m     \u001b[38;5;28mself\u001b[39m,\n\u001b[0;32m  12500\u001b[0m     axis: Axis \u001b[38;5;241m|\u001b[39m \u001b[38;5;28;01mNone\u001b[39;00m \u001b[38;5;241m=\u001b[39m \u001b[38;5;241m0\u001b[39m,\n\u001b[1;32m   (...)\u001b[0m\n\u001b[0;32m  12504\u001b[0m     \u001b[38;5;241m*\u001b[39m\u001b[38;5;241m*\u001b[39mkwargs,\n\u001b[0;32m  12505\u001b[0m ):\n\u001b[1;32m> 12506\u001b[0m     \u001b[38;5;28;01mreturn\u001b[39;00m \u001b[38;5;28;43mself\u001b[39;49m\u001b[38;5;241;43m.\u001b[39;49m\u001b[43m_min_count_stat_function\u001b[49m\u001b[43m(\u001b[49m\n\u001b[0;32m  12507\u001b[0m \u001b[43m        \u001b[49m\u001b[38;5;124;43m\"\u001b[39;49m\u001b[38;5;124;43msum\u001b[39;49m\u001b[38;5;124;43m\"\u001b[39;49m\u001b[43m,\u001b[49m\u001b[43m \u001b[49m\u001b[43mnanops\u001b[49m\u001b[38;5;241;43m.\u001b[39;49m\u001b[43mnansum\u001b[49m\u001b[43m,\u001b[49m\u001b[43m \u001b[49m\u001b[43maxis\u001b[49m\u001b[43m,\u001b[49m\u001b[43m \u001b[49m\u001b[43mskipna\u001b[49m\u001b[43m,\u001b[49m\u001b[43m \u001b[49m\u001b[43mnumeric_only\u001b[49m\u001b[43m,\u001b[49m\u001b[43m \u001b[49m\u001b[43mmin_count\u001b[49m\u001b[43m,\u001b[49m\u001b[43m \u001b[49m\u001b[38;5;241;43m*\u001b[39;49m\u001b[38;5;241;43m*\u001b[39;49m\u001b[43mkwargs\u001b[49m\n\u001b[0;32m  12508\u001b[0m \u001b[43m    \u001b[49m\u001b[43m)\u001b[49m\n",
      "File \u001b[1;32mc:\\Python312\\Lib\\site-packages\\pandas\\core\\generic.py:12489\u001b[0m, in \u001b[0;36mNDFrame._min_count_stat_function\u001b[1;34m(self, name, func, axis, skipna, numeric_only, min_count, **kwargs)\u001b[0m\n\u001b[0;32m  12486\u001b[0m \u001b[38;5;28;01melif\u001b[39;00m axis \u001b[38;5;129;01mis\u001b[39;00m lib\u001b[38;5;241m.\u001b[39mno_default:\n\u001b[0;32m  12487\u001b[0m     axis \u001b[38;5;241m=\u001b[39m \u001b[38;5;241m0\u001b[39m\n\u001b[1;32m> 12489\u001b[0m \u001b[38;5;28;01mreturn\u001b[39;00m \u001b[38;5;28;43mself\u001b[39;49m\u001b[38;5;241;43m.\u001b[39;49m\u001b[43m_reduce\u001b[49m\u001b[43m(\u001b[49m\n\u001b[0;32m  12490\u001b[0m \u001b[43m    \u001b[49m\u001b[43mfunc\u001b[49m\u001b[43m,\u001b[49m\n\u001b[0;32m  12491\u001b[0m \u001b[43m    \u001b[49m\u001b[43mname\u001b[49m\u001b[38;5;241;43m=\u001b[39;49m\u001b[43mname\u001b[49m\u001b[43m,\u001b[49m\n\u001b[0;32m  12492\u001b[0m \u001b[43m    \u001b[49m\u001b[43maxis\u001b[49m\u001b[38;5;241;43m=\u001b[39;49m\u001b[43maxis\u001b[49m\u001b[43m,\u001b[49m\n\u001b[0;32m  12493\u001b[0m \u001b[43m    \u001b[49m\u001b[43mskipna\u001b[49m\u001b[38;5;241;43m=\u001b[39;49m\u001b[43mskipna\u001b[49m\u001b[43m,\u001b[49m\n\u001b[0;32m  12494\u001b[0m \u001b[43m    \u001b[49m\u001b[43mnumeric_only\u001b[49m\u001b[38;5;241;43m=\u001b[39;49m\u001b[43mnumeric_only\u001b[49m\u001b[43m,\u001b[49m\n\u001b[0;32m  12495\u001b[0m \u001b[43m    \u001b[49m\u001b[43mmin_count\u001b[49m\u001b[38;5;241;43m=\u001b[39;49m\u001b[43mmin_count\u001b[49m\u001b[43m,\u001b[49m\n\u001b[0;32m  12496\u001b[0m \u001b[43m\u001b[49m\u001b[43m)\u001b[49m\n",
      "File \u001b[1;32mc:\\Python312\\Lib\\site-packages\\pandas\\core\\series.py:6457\u001b[0m, in \u001b[0;36mSeries._reduce\u001b[1;34m(self, op, name, axis, skipna, numeric_only, filter_type, **kwds)\u001b[0m\n\u001b[0;32m   6452\u001b[0m     \u001b[38;5;66;03m# GH#47500 - change to TypeError to match other methods\u001b[39;00m\n\u001b[0;32m   6453\u001b[0m     \u001b[38;5;28;01mraise\u001b[39;00m \u001b[38;5;167;01mTypeError\u001b[39;00m(\n\u001b[0;32m   6454\u001b[0m         \u001b[38;5;124mf\u001b[39m\u001b[38;5;124m\"\u001b[39m\u001b[38;5;124mSeries.\u001b[39m\u001b[38;5;132;01m{\u001b[39;00mname\u001b[38;5;132;01m}\u001b[39;00m\u001b[38;5;124m does not allow \u001b[39m\u001b[38;5;132;01m{\u001b[39;00mkwd_name\u001b[38;5;132;01m}\u001b[39;00m\u001b[38;5;124m=\u001b[39m\u001b[38;5;132;01m{\u001b[39;00mnumeric_only\u001b[38;5;132;01m}\u001b[39;00m\u001b[38;5;124m \u001b[39m\u001b[38;5;124m\"\u001b[39m\n\u001b[0;32m   6455\u001b[0m         \u001b[38;5;124m\"\u001b[39m\u001b[38;5;124mwith non-numeric dtypes.\u001b[39m\u001b[38;5;124m\"\u001b[39m\n\u001b[0;32m   6456\u001b[0m     )\n\u001b[1;32m-> 6457\u001b[0m \u001b[38;5;28;01mreturn\u001b[39;00m \u001b[43mop\u001b[49m\u001b[43m(\u001b[49m\u001b[43mdelegate\u001b[49m\u001b[43m,\u001b[49m\u001b[43m \u001b[49m\u001b[43mskipna\u001b[49m\u001b[38;5;241;43m=\u001b[39;49m\u001b[43mskipna\u001b[49m\u001b[43m,\u001b[49m\u001b[43m \u001b[49m\u001b[38;5;241;43m*\u001b[39;49m\u001b[38;5;241;43m*\u001b[39;49m\u001b[43mkwds\u001b[49m\u001b[43m)\u001b[49m\n",
      "File \u001b[1;32mc:\\Python312\\Lib\\site-packages\\pandas\\core\\nanops.py:85\u001b[0m, in \u001b[0;36mdisallow.__call__.<locals>._f\u001b[1;34m(*args, **kwargs)\u001b[0m\n\u001b[0;32m     81\u001b[0m     \u001b[38;5;28;01mraise\u001b[39;00m \u001b[38;5;167;01mTypeError\u001b[39;00m(\n\u001b[0;32m     82\u001b[0m         \u001b[38;5;124mf\u001b[39m\u001b[38;5;124m\"\u001b[39m\u001b[38;5;124mreduction operation \u001b[39m\u001b[38;5;124m'\u001b[39m\u001b[38;5;132;01m{\u001b[39;00mf_name\u001b[38;5;132;01m}\u001b[39;00m\u001b[38;5;124m'\u001b[39m\u001b[38;5;124m not allowed for this dtype\u001b[39m\u001b[38;5;124m\"\u001b[39m\n\u001b[0;32m     83\u001b[0m     )\n\u001b[0;32m     84\u001b[0m \u001b[38;5;28;01mtry\u001b[39;00m:\n\u001b[1;32m---> 85\u001b[0m     \u001b[38;5;28;01mreturn\u001b[39;00m \u001b[43mf\u001b[49m\u001b[43m(\u001b[49m\u001b[38;5;241;43m*\u001b[39;49m\u001b[43margs\u001b[49m\u001b[43m,\u001b[49m\u001b[43m \u001b[49m\u001b[38;5;241;43m*\u001b[39;49m\u001b[38;5;241;43m*\u001b[39;49m\u001b[43mkwargs\u001b[49m\u001b[43m)\u001b[49m\n\u001b[0;32m     86\u001b[0m \u001b[38;5;28;01mexcept\u001b[39;00m \u001b[38;5;167;01mValueError\u001b[39;00m \u001b[38;5;28;01mas\u001b[39;00m e:\n\u001b[0;32m     87\u001b[0m     \u001b[38;5;66;03m# we want to transform an object array\u001b[39;00m\n\u001b[0;32m     88\u001b[0m     \u001b[38;5;66;03m# ValueError message to the more typical TypeError\u001b[39;00m\n\u001b[0;32m     89\u001b[0m     \u001b[38;5;66;03m# e.g. this is normally a disallowed function on\u001b[39;00m\n\u001b[0;32m     90\u001b[0m     \u001b[38;5;66;03m# object arrays that contain strings\u001b[39;00m\n\u001b[0;32m     91\u001b[0m     \u001b[38;5;28;01mif\u001b[39;00m is_object_dtype(args[\u001b[38;5;241m0\u001b[39m]):\n",
      "File \u001b[1;32mc:\\Python312\\Lib\\site-packages\\pandas\\core\\nanops.py:404\u001b[0m, in \u001b[0;36m_datetimelike_compat.<locals>.new_func\u001b[1;34m(values, axis, skipna, mask, **kwargs)\u001b[0m\n\u001b[0;32m    401\u001b[0m \u001b[38;5;28;01mif\u001b[39;00m datetimelike \u001b[38;5;129;01mand\u001b[39;00m mask \u001b[38;5;129;01mis\u001b[39;00m \u001b[38;5;28;01mNone\u001b[39;00m:\n\u001b[0;32m    402\u001b[0m     mask \u001b[38;5;241m=\u001b[39m isna(values)\n\u001b[1;32m--> 404\u001b[0m result \u001b[38;5;241m=\u001b[39m \u001b[43mfunc\u001b[49m\u001b[43m(\u001b[49m\u001b[43mvalues\u001b[49m\u001b[43m,\u001b[49m\u001b[43m \u001b[49m\u001b[43maxis\u001b[49m\u001b[38;5;241;43m=\u001b[39;49m\u001b[43maxis\u001b[49m\u001b[43m,\u001b[49m\u001b[43m \u001b[49m\u001b[43mskipna\u001b[49m\u001b[38;5;241;43m=\u001b[39;49m\u001b[43mskipna\u001b[49m\u001b[43m,\u001b[49m\u001b[43m \u001b[49m\u001b[43mmask\u001b[49m\u001b[38;5;241;43m=\u001b[39;49m\u001b[43mmask\u001b[49m\u001b[43m,\u001b[49m\u001b[43m \u001b[49m\u001b[38;5;241;43m*\u001b[39;49m\u001b[38;5;241;43m*\u001b[39;49m\u001b[43mkwargs\u001b[49m\u001b[43m)\u001b[49m\n\u001b[0;32m    406\u001b[0m \u001b[38;5;28;01mif\u001b[39;00m datetimelike:\n\u001b[0;32m    407\u001b[0m     result \u001b[38;5;241m=\u001b[39m _wrap_results(result, orig_values\u001b[38;5;241m.\u001b[39mdtype, fill_value\u001b[38;5;241m=\u001b[39miNaT)\n",
      "File \u001b[1;32mc:\\Python312\\Lib\\site-packages\\pandas\\core\\nanops.py:477\u001b[0m, in \u001b[0;36mmaybe_operate_rowwise.<locals>.newfunc\u001b[1;34m(values, axis, **kwargs)\u001b[0m\n\u001b[0;32m    474\u001b[0m         results \u001b[38;5;241m=\u001b[39m [func(x, \u001b[38;5;241m*\u001b[39m\u001b[38;5;241m*\u001b[39mkwargs) \u001b[38;5;28;01mfor\u001b[39;00m x \u001b[38;5;129;01min\u001b[39;00m arrs]\n\u001b[0;32m    475\u001b[0m     \u001b[38;5;28;01mreturn\u001b[39;00m np\u001b[38;5;241m.\u001b[39marray(results)\n\u001b[1;32m--> 477\u001b[0m \u001b[38;5;28;01mreturn\u001b[39;00m \u001b[43mfunc\u001b[49m\u001b[43m(\u001b[49m\u001b[43mvalues\u001b[49m\u001b[43m,\u001b[49m\u001b[43m \u001b[49m\u001b[43maxis\u001b[49m\u001b[38;5;241;43m=\u001b[39;49m\u001b[43maxis\u001b[49m\u001b[43m,\u001b[49m\u001b[43m \u001b[49m\u001b[38;5;241;43m*\u001b[39;49m\u001b[38;5;241;43m*\u001b[39;49m\u001b[43mkwargs\u001b[49m\u001b[43m)\u001b[49m\n",
      "File \u001b[1;32mc:\\Python312\\Lib\\site-packages\\pandas\\core\\nanops.py:646\u001b[0m, in \u001b[0;36mnansum\u001b[1;34m(values, axis, skipna, min_count, mask)\u001b[0m\n\u001b[0;32m    643\u001b[0m \u001b[38;5;28;01melif\u001b[39;00m dtype\u001b[38;5;241m.\u001b[39mkind \u001b[38;5;241m==\u001b[39m \u001b[38;5;124m\"\u001b[39m\u001b[38;5;124mm\u001b[39m\u001b[38;5;124m\"\u001b[39m:\n\u001b[0;32m    644\u001b[0m     dtype_sum \u001b[38;5;241m=\u001b[39m np\u001b[38;5;241m.\u001b[39mdtype(np\u001b[38;5;241m.\u001b[39mfloat64)\n\u001b[1;32m--> 646\u001b[0m the_sum \u001b[38;5;241m=\u001b[39m \u001b[43mvalues\u001b[49m\u001b[38;5;241;43m.\u001b[39;49m\u001b[43msum\u001b[49m\u001b[43m(\u001b[49m\u001b[43maxis\u001b[49m\u001b[43m,\u001b[49m\u001b[43m \u001b[49m\u001b[43mdtype\u001b[49m\u001b[38;5;241;43m=\u001b[39;49m\u001b[43mdtype_sum\u001b[49m\u001b[43m)\u001b[49m\n\u001b[0;32m    647\u001b[0m the_sum \u001b[38;5;241m=\u001b[39m _maybe_null_out(the_sum, axis, mask, values\u001b[38;5;241m.\u001b[39mshape, min_count\u001b[38;5;241m=\u001b[39mmin_count)\n\u001b[0;32m    649\u001b[0m \u001b[38;5;28;01mreturn\u001b[39;00m the_sum\n",
      "File \u001b[1;32mc:\\Python312\\Lib\\site-packages\\numpy\\core\\_methods.py:49\u001b[0m, in \u001b[0;36m_sum\u001b[1;34m(a, axis, dtype, out, keepdims, initial, where)\u001b[0m\n\u001b[0;32m     47\u001b[0m \u001b[38;5;28;01mdef\u001b[39;00m \u001b[38;5;21m_sum\u001b[39m(a, axis\u001b[38;5;241m=\u001b[39m\u001b[38;5;28;01mNone\u001b[39;00m, dtype\u001b[38;5;241m=\u001b[39m\u001b[38;5;28;01mNone\u001b[39;00m, out\u001b[38;5;241m=\u001b[39m\u001b[38;5;28;01mNone\u001b[39;00m, keepdims\u001b[38;5;241m=\u001b[39m\u001b[38;5;28;01mFalse\u001b[39;00m,\n\u001b[0;32m     48\u001b[0m          initial\u001b[38;5;241m=\u001b[39m_NoValue, where\u001b[38;5;241m=\u001b[39m\u001b[38;5;28;01mTrue\u001b[39;00m):\n\u001b[1;32m---> 49\u001b[0m     \u001b[38;5;28;01mreturn\u001b[39;00m \u001b[43mumr_sum\u001b[49m\u001b[43m(\u001b[49m\u001b[43ma\u001b[49m\u001b[43m,\u001b[49m\u001b[43m \u001b[49m\u001b[43maxis\u001b[49m\u001b[43m,\u001b[49m\u001b[43m \u001b[49m\u001b[43mdtype\u001b[49m\u001b[43m,\u001b[49m\u001b[43m \u001b[49m\u001b[43mout\u001b[49m\u001b[43m,\u001b[49m\u001b[43m \u001b[49m\u001b[43mkeepdims\u001b[49m\u001b[43m,\u001b[49m\u001b[43m \u001b[49m\u001b[43minitial\u001b[49m\u001b[43m,\u001b[49m\u001b[43m \u001b[49m\u001b[43mwhere\u001b[49m\u001b[43m)\u001b[49m\n",
      "\u001b[1;31mKeyboardInterrupt\u001b[0m: "
     ]
    }
   ],
   "source": [
    "tests = [\n",
    "    [DRIFTS_DIR / 'drift_detection_train_test.csv', DriftDetectionTests(train, test)],\n",
    "    [DRIFTS_DIR / 'two_samp_hypothesis_train_test.csv', TwoSampHypothesisTests(train, test)],\n",
    "    [DRIFTS_DIR / 'categorical_effect_sizes_train_test.csv', CategoricalEffectSizes(train, test)],\n",
    "    [DRIFTS_DIR / 'ttest_effect_sizes_train_test.csv', TtestBasedEffectSizes(train, test)],\n",
    "    [DRIFTS_DIR / 'group_effect_sizes_train_test.csv', GroupBasedEffectSizes(train, test)],\n",
    "    [DRIFTS_DIR / 'relationship_effect_sizes_train_test.csv', TwoSampRelationshipEffectSizes(train, test)],\n",
    "    [DRIFTS_DIR / 'non_param_effect_sizes_train_test.csv', TwoSampNonParamEffectSizes(train, test)]\n",
    "]\n",
    "\n",
    "for path, test_instance in tests:\n",
    "    if os.path.exists(path):\n",
    "        continue\n",
    "\n",
    "    methods = 'all'\n",
    "    if 'two_samp_hypothesis' in path.stem:\n",
    "        methods = ['ttest', 'mannwhitney', 'ks', 'chi2']\n",
    "    \n",
    "    results = test_instance.calc_methods(methods=methods)\n",
    "    results.to_csv(path)\n",
    "    print(f\"Saved results to {path}\")"
   ]
  },
  {
   "cell_type": "markdown",
   "id": "cf9a2b74",
   "metadata": {},
   "source": [
    "### Conclusions"
   ]
  },
  {
   "cell_type": "markdown",
   "id": "b3b0d4b7",
   "metadata": {},
   "source": [
    "**Conclusions**:\n",
    "1. Adversarial results, statistical tests and plots clearly show that properties differ, but they are anticipated to differ. \n",
    "2. Drifted distributions features: 'structuretaxvaluedollarcnt',\n",
    " 'calculatedfinishedsquarefeet',\n",
    " 'landtaxvaluedollarcnt',\n",
    " 'finishedsquarefeet15',\n",
    " 'taxamount'.\n",
    "3. Differently distributed features:\n",
    " 'yearbuilt',\n",
    " 'finishedfloor1squarefeet',\n",
    " 'taxvaluedollarcnt',\n",
    " 'regionidzip',\n",
    " 'latitude'.\n",
    "4. Taxdelinquencyflag ratio F/T differs significantly. Fireplaceflag - too, but the feature is strongly imbalanced.\n",
    "5. Property zoning differs significantly for properties and train, but not extremely for train 2016 and 2017.\n",
    "6. Adversarial feature importances are mostly consistent.\n",
    "7. Datasets similarity among months: no difference, even none of stat tests showed significance.\n",
    "8. Datasets similarity among q4 and train: same thing like with months. \n",
    "9. Train 2016 vs properties 2016: some distributions are clearly shifted."
   ]
  }
 ],
 "metadata": {
  "kernelspec": {
   "display_name": "Python 3",
   "language": "python",
   "name": "python3"
  },
  "language_info": {
   "codemirror_mode": {
    "name": "ipython",
    "version": 3
   },
   "file_extension": ".py",
   "mimetype": "text/x-python",
   "name": "python",
   "nbconvert_exporter": "python",
   "pygments_lexer": "ipython3",
   "version": "3.12.4"
  }
 },
 "nbformat": 4,
 "nbformat_minor": 5
}
